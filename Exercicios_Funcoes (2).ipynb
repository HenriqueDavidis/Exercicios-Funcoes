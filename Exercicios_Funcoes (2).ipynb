{
  "nbformat": 4,
  "nbformat_minor": 0,
  "metadata": {
    "colab": {
      "provenance": []
    },
    "kernelspec": {
      "name": "python3",
      "display_name": "Python 3"
    },
    "language_info": {
      "name": "python"
    }
  },
  "cells": [
    {
      "cell_type": "code",
      "execution_count": null,
      "metadata": {
        "colab": {
          "base_uri": "https://localhost:8080/"
        },
        "id": "3yJ-MfjXk4OO",
        "outputId": "2d42d2d1-21db-49f6-fd88-5dc4e61e0db9"
      },
      "outputs": [
        {
          "output_type": "stream",
          "name": "stdout",
          "text": [
            "2\n",
            "4\n",
            "6\n",
            "8\n",
            "10\n",
            "12\n",
            "14\n",
            "16\n",
            "18\n",
            "20\n"
          ]
        }
      ],
      "source": [
        "# Exercício 1 - Crie uma função que imprima a sequência de números pares entre 1 e 20 (a função não recebe parâmetro)\n",
        "# e depois faça uma chamada à função para listar os números\n",
        "\n",
        "def listar_numeros_pares():\n",
        "    for numero in range(2, 21, 2):\n",
        "        print(numero)\n",
        "\n",
        "# Chamando a função para listar os números pares\n",
        "listar_numeros_pares()"
      ]
    },
    {
      "cell_type": "code",
      "source": [
        "# Exercício 2 - Crie uam função que receba uma string como argumento e retorne a mesma string em letras maiúsculas.\n",
        "# Faça uma chamada à função, passando como parâmetro uma string\n",
        "\n",
        "def maiusculas(texto):\n",
        "    texto_maiusculo = texto.upper()\n",
        "    return texto_maiusculo\n",
        "\n",
        "# Chamando a função e passando uma string como parâmetro\n",
        "string_original = \"Exemplo de string em maiúsculas\"\n",
        "string_em_maiusculas = maiusculas(string_original)\n",
        "print(string_em_maiusculas)\n"
      ],
      "metadata": {
        "colab": {
          "base_uri": "https://localhost:8080/"
        },
        "id": "9zaAiGhElIqb",
        "outputId": "aea2dafe-4f62-4578-9efc-02c85b32ecb4"
      },
      "execution_count": null,
      "outputs": [
        {
          "output_type": "stream",
          "name": "stdout",
          "text": [
            "EXEMPLO DE STRING EM MAIÚSCULAS\n"
          ]
        }
      ]
    },
    {
      "cell_type": "code",
      "source": [
        "# Exercício 3 - Crie uma função que receba como parâmetro uma lista de 4 elementos, adicione 2 elementos a lista e\n",
        "# imprima a lista\n",
        "\n",
        "def adicionar_elementos(lista):\n",
        "    lista.append(\"Novo Elemento 1\")\n",
        "    lista.append(\"Novo Elemento 2\")\n",
        "\n",
        "# Criando uma lista inicial com 4 elementos\n",
        "lista_inicial = [\"Elemento 1\", \"Elemento 2\", \"Elemento 3\", \"Elemento 4\"]\n",
        "\n",
        "# Chamando a função para adicionar elementos à lista\n",
        "adicionar_elementos(lista_inicial)\n",
        "\n",
        "# Imprimindo a lista resultante\n",
        "print(lista_inicial)\n"
      ],
      "metadata": {
        "colab": {
          "base_uri": "https://localhost:8080/"
        },
        "id": "tE7TPdTSleCb",
        "outputId": "52bfc7c2-2c5f-4479-92ff-b440db8c2fd8"
      },
      "execution_count": null,
      "outputs": [
        {
          "output_type": "stream",
          "name": "stdout",
          "text": [
            "['Elemento 1', 'Elemento 2', 'Elemento 3', 'Elemento 4', 'Novo Elemento 1', 'Novo Elemento 2']\n"
          ]
        }
      ]
    },
    {
      "cell_type": "code",
      "source": [
        "# Exercício 4 - Crie uma função que receba um argumento formal e uma possível lista de elementos. Faça duas chamadas\n",
        "# à função, com apenas 1 elemento e na segunda chamada com 4 elementos\n",
        "\n",
        "def exemplo_funcao(arg_formal, *args):\n",
        "    print(\"Argumento Formal:\", arg_formal)\n",
        "    if args:\n",
        "        print(\"Lista de Elementos:\", args)\n",
        "    else:\n",
        "        print(\"Sem elementos adicionais.\")\n",
        "\n",
        "# Chamada 1 com apenas 1 elemento\n",
        "exemplo_funcao(\"Chamada 1 - Apenas 1 elemento\", \"Elemento 1\")\n",
        "\n",
        "# Chamada 2 com 4 elementos\n",
        "exemplo_funcao(\"Chamada 2 - 4 elementos\", \"Elemento 1\", \"Elemento 2\", \"Elemento 3\", \"Elemento 4\")\n"
      ],
      "metadata": {
        "colab": {
          "base_uri": "https://localhost:8080/"
        },
        "id": "2XYsy5_hlpF9",
        "outputId": "b6cda053-89fb-498e-cf3f-0215878eb7e8"
      },
      "execution_count": null,
      "outputs": [
        {
          "output_type": "stream",
          "name": "stdout",
          "text": [
            "Argumento Formal: Chamada 1 - Apenas 1 elemento\n",
            "Lista de Elementos: ('Elemento 1',)\n",
            "Argumento Formal: Chamada 2 - 4 elementos\n",
            "Lista de Elementos: ('Elemento 1', 'Elemento 2', 'Elemento 3', 'Elemento 4')\n"
          ]
        }
      ]
    },
    {
      "cell_type": "code",
      "source": [
        "# Exercício 5 - Crie uma função anônima e atribua seu retorno a uma variável chamada soma. A expressão vai receber 2\n",
        "# números como parâmetro e retornar a soma deles\n",
        "\n",
        "soma = lambda x, y: x + y\n",
        "\n",
        "# Chamando a função lambda para obter a soma de dois números\n",
        "resultado = soma(5, 3)\n",
        "print(resultado)  # Isso imprimirá 8\n"
      ],
      "metadata": {
        "colab": {
          "base_uri": "https://localhost:8080/"
        },
        "id": "3FEwy9L0l012",
        "outputId": "ad9a7813-a127-4e55-f31e-5399d52aca77"
      },
      "execution_count": null,
      "outputs": [
        {
          "output_type": "stream",
          "name": "stdout",
          "text": [
            "8\n"
          ]
        }
      ]
    },
    {
      "cell_type": "code",
      "source": [
        "# Exercício 6 - Execute o código abaixo e certifique-se que compreende a diferença entre variável global e local\n",
        "total = 0\n",
        "def soma( arg1, arg2 ):\n",
        "    total = arg1 + arg2;\n",
        "    print (\"Dentro da função o total é: \", total)\n",
        "    return total;\n",
        "\n",
        "\n",
        "soma( 10, 20 );\n",
        "print (\"Fora da função o total é: \", total)\n",
        "\n",
        "\n",
        "#Há duas variáveis chamadas \"total\" no código:\n",
        "\n",
        "#A variável global chamada total é definida no início do programa com o valor 0.\n",
        "#A variável local chamada total é definida dentro da função soma e é usada para armazenar o resultado da soma dos argumentos arg1 e arg2.\n",
        "\n",
        "#Portanto, a diferença entre variáveis globais e locais é que as variáveis locais são definidas dentro de uma função e\n",
        "#existem apenas dentro do escopo dessa função. Elas não afetam o valor das variáveis globais com o mesmo nome."
      ],
      "metadata": {
        "id": "6HY80FTQl_qt"
      },
      "execution_count": null,
      "outputs": []
    },
    {
      "cell_type": "code",
      "source": [
        "# Exercício 7 - Abaixo você encontra uma lista com temperaturas em graus Celsius\n",
        "# Crie uma função anônima que converta cada temperatura para Fahrenheit\n",
        "# Dica: para conseguir realizar este exercício, você deve criar sua função lambda, dentro de uma função\n",
        "# (que será estudada no próximo capítulo). Isso permite aplicar sua função a cada elemento da lista\n",
        "# Como descobrir a fórmula matemática que converte de Celsius para Fahrenheit? Pesquise!!!\n",
        "\n",
        "#Celsius = [39.2, 36.5, 37.3, 37.8]\n",
        "#Fahrenheit = map(coloque_aqui_sua_função_lambda)\n",
        "#print (list(Fahrenheit))\n",
        "\n",
        "\n",
        "Celsius = [39.2, 36.5, 37.3, 37.8]\n",
        "\n",
        "# Definindo uma função lambda para a conversão\n",
        "converter_para_fahrenheit = lambda celsius: (celsius * 9/5) + 32\n",
        "\n",
        "# Usando a função map com a função lambda para converter a lista de Celsius para Fahrenheit\n",
        "Fahrenheit = map(converter_para_fahrenheit, Celsius)\n",
        "\n",
        "# Imprimindo a lista de temperaturas em Fahrenheit\n",
        "print(list(Fahrenheit))\n"
      ],
      "metadata": {
        "colab": {
          "base_uri": "https://localhost:8080/"
        },
        "id": "kfClrUTOmd0z",
        "outputId": "545a6f30-166b-4e9b-fa43-753fff0ef482"
      },
      "execution_count": null,
      "outputs": [
        {
          "output_type": "stream",
          "name": "stdout",
          "text": [
            "[102.56, 97.7, 99.14, 100.03999999999999]\n"
          ]
        }
      ]
    },
    {
      "cell_type": "code",
      "source": [
        "# Exercício 8 - Crie uma list comprehension que imprima o quadrado dos números de 1 a 10\n",
        "#[x**2 for x in range(1,11)]\n",
        "\n",
        "quadrados = [x**2 for x in range(1, 11)]\n",
        "print(quadrados)"
      ],
      "metadata": {
        "colab": {
          "base_uri": "https://localhost:8080/"
        },
        "id": "f9XoZAijm-2U",
        "outputId": "abd090ed-ce50-421d-af77-e9c73466243e"
      },
      "execution_count": null,
      "outputs": [
        {
          "output_type": "stream",
          "name": "stdout",
          "text": [
            "[1, 4, 9, 16, 25, 36, 49, 64, 81, 100]\n"
          ]
        }
      ]
    },
    {
      "cell_type": "code",
      "source": [
        "# Exercício 9 - Crie uma list comprehension que imprima as palavras com a letra a no nome\n",
        "#palavras = [\"maça\", \"coiote\", \"banana\", \"terreno\", \"Python\"]\n",
        "\n",
        "palavras = [\"maça\", \"coiote\", \"banana\", \"terreno\", \"Python\"]\n",
        "palavras_com_a = [palavra for palavra in palavras if 'a' in palavra.lower()]\n",
        "print(palavras_com_a)"
      ],
      "metadata": {
        "colab": {
          "base_uri": "https://localhost:8080/"
        },
        "id": "P-wmlarbnHWA",
        "outputId": "31c236e6-b205-4ee3-b105-f7d58437ec27"
      },
      "execution_count": null,
      "outputs": [
        {
          "output_type": "stream",
          "name": "stdout",
          "text": [
            "['maça', 'banana']\n"
          ]
        }
      ]
    },
    {
      "cell_type": "code",
      "source": [
        "# Exercício 10 - Crie uma list comprehension que imprima os números menores que 5 em um intervalo de 1 a 10\n",
        "\n",
        "numeros_menores_que_5 = [numero for numero in range(1, 11) if numero < 5]\n",
        "print(numeros_menores_que_5)"
      ],
      "metadata": {
        "colab": {
          "base_uri": "https://localhost:8080/"
        },
        "id": "4ZrIFhXknq2F",
        "outputId": "615c3570-f6b5-48e3-9737-1081e110df31"
      },
      "execution_count": null,
      "outputs": [
        {
          "output_type": "stream",
          "name": "stdout",
          "text": [
            "[1, 2, 3, 4]\n"
          ]
        }
      ]
    }
  ]
}